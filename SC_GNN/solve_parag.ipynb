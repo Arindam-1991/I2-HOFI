{
 "cells": [
  {
   "cell_type": "code",
   "execution_count": 4,
   "id": "5af8006a",
   "metadata": {},
   "outputs": [],
   "source": [
    "from tensorflow.keras.applications.xception import Xception\n",
    "from tensorflow.keras import layers, Model"
   ]
  },
  {
   "cell_type": "code",
   "execution_count": 5,
   "id": "d1ab704b",
   "metadata": {},
   "outputs": [],
   "source": [
    "class SC_GNN_Params:\n",
    "    def __init__(\n",
    "        self,\n",
    "        pool_size=None,\n",
    "        ROIS_resolution=None,\n",
    "        ROIS_grid_size=None,\n",
    "        minSize=None,\n",
    "        alpha=None,\n",
    "        nb_classes=None,\n",
    "        batch_size=None,\n",
    "        input_shape=(224, 224, 3),\n",
    "        cnodes=32,\n",
    "        gcn_outfeat_dim=1024,\n",
    "        dropout_rate=0.2,\n",
    "        *args,\n",
    "        **kwargs\n",
    "    ):\n",
    "        self.pool_size = pool_size\n",
    "        self.ROIS_resolution = ROIS_resolution\n",
    "        self.ROIS_grid_size = ROIS_grid_size\n",
    "        self.minSize = minSize\n",
    "        self.alpha = alpha\n",
    "        self.nb_classes = nb_classes\n",
    "        self.batch_size = batch_size\n",
    "        self.input_shape = input_shape\n",
    "        self.cnodes = cnodes\n",
    "        self.gcn_outfeat_dim = gcn_outfeat_dim\n",
    "        self.dropout_rate = dropout_rate\n",
    "        self.base_model = Xception(\n",
    "            weights = 'imagenet', \n",
    "            input_tensor = layers.Input( shape = input_shape ), \n",
    "            include_top = False\n",
    "            )"
   ]
  },
  {
   "cell_type": "code",
   "execution_count": 12,
   "id": "c49a0151",
   "metadata": {},
   "outputs": [],
   "source": [
    "params = SC_GNN_Params(\n",
    "    name = 'ff',\n",
    "    pool_size=7,\n",
    "    ROIS_resolution=42,\n",
    "    ROIS_grid_size=3,\n",
    "    minSize=2,\n",
    "    alpha=0.3,\n",
    "    nb_classes=196,\n",
    "    batch_size=8\n",
    ")"
   ]
  },
  {
   "cell_type": "code",
   "execution_count": 14,
   "id": "f0629e78",
   "metadata": {},
   "outputs": [
    {
     "ename": "AttributeError",
     "evalue": "'SC_GNN_Params' object has no attribute 'name'",
     "output_type": "error",
     "traceback": [
      "\u001b[1;31m---------------------------------------------------------------------------\u001b[0m",
      "\u001b[1;31mAttributeError\u001b[0m                            Traceback (most recent call last)",
      "Cell \u001b[1;32mIn[14], line 1\u001b[0m\n\u001b[1;32m----> 1\u001b[0m \u001b[43mparams\u001b[49m\u001b[38;5;241;43m.\u001b[39;49m\u001b[43mname\u001b[49m\n",
      "\u001b[1;31mAttributeError\u001b[0m: 'SC_GNN_Params' object has no attribute 'name'"
     ]
    }
   ],
   "source": [
    "params.name"
   ]
  },
  {
   "cell_type": "code",
   "execution_count": null,
   "id": "0a8167be",
   "metadata": {},
   "outputs": [],
   "source": []
  },
  {
   "cell_type": "code",
   "execution_count": 34,
   "id": "edb52753",
   "metadata": {},
   "outputs": [],
   "source": [
    "class Grandparent:\n",
    "    def __init__(self):\n",
    "        self.x = 1\n",
    "\n",
    "class Parent(Grandparent):\n",
    "    def __init__(self):\n",
    "        super().__init__()\n",
    "        self.x = 2\n",
    "\n",
    "class Child(Parent):\n",
    "    def __init__(self):\n",
    "        super().__init__()\n",
    "        self.x = 3\n"
   ]
  },
  {
   "cell_type": "code",
   "execution_count": 35,
   "id": "9c1e44aa",
   "metadata": {},
   "outputs": [],
   "source": [
    "cc = Child"
   ]
  },
  {
   "cell_type": "code",
   "execution_count": 36,
   "id": "edca6fec",
   "metadata": {},
   "outputs": [
    {
     "ename": "AttributeError",
     "evalue": "type object 'Child' has no attribute 'x'",
     "output_type": "error",
     "traceback": [
      "\u001b[1;31m---------------------------------------------------------------------------\u001b[0m",
      "\u001b[1;31mAttributeError\u001b[0m                            Traceback (most recent call last)",
      "Cell \u001b[1;32mIn[36], line 1\u001b[0m\n\u001b[1;32m----> 1\u001b[0m \u001b[43mcc\u001b[49m\u001b[38;5;241;43m.\u001b[39;49m\u001b[43mx\u001b[49m\n",
      "\u001b[1;31mAttributeError\u001b[0m: type object 'Child' has no attribute 'x'"
     ]
    }
   ],
   "source": [
    "cc.x"
   ]
  },
  {
   "cell_type": "code",
   "execution_count": null,
   "id": "b1b124f2",
   "metadata": {},
   "outputs": [],
   "source": []
  }
 ],
 "metadata": {
  "kernelspec": {
   "display_name": "Python 3 (ipykernel)",
   "language": "python",
   "name": "python3"
  },
  "language_info": {
   "codemirror_mode": {
    "name": "ipython",
    "version": 3
   },
   "file_extension": ".py",
   "mimetype": "text/x-python",
   "name": "python",
   "nbconvert_exporter": "python",
   "pygments_lexer": "ipython3",
   "version": "3.9.16"
  }
 },
 "nbformat": 4,
 "nbformat_minor": 5
}
